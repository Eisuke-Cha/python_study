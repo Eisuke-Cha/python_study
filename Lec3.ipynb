{
 "cells": [
  {
   "cell_type": "code",
   "execution_count": 2,
   "metadata": {},
   "outputs": [
    {
     "name": "stdout",
     "output_type": "stream",
     "text": [
      "True\n",
      "False\n",
      "100 <class 'int'>\n"
     ]
    }
   ],
   "source": [
    "is_valid = True # ブール型：True or Falseで●×を表す\n",
    "print(is_valid) # Trueを表示\n",
    "\n",
    "is_valid = False # Falseを代入\n",
    "print(is_valid) # Falseを表示\n",
    "\n",
    "i = 100\n",
    "\n",
    "\"\"\"\n",
    "int     : 整数型\n",
    "float   : 浮動小数点型(1.23*10^4)\n",
    "complex : 複素数型\n",
    "str     : 文字列型(文字：char)\n",
    "bool    : ブール型(正誤判定)\n",
    "list    : リスト型(配列)\n",
    "tuple   : タプル型(リスト型の変更不可)\n",
    "dict    : 辞書型(連想配列)\n",
    "\"\"\"\n",
    "print(i, type(i)) # 変数の型：type(変数)で表示\n"
   ]
  },
  {
   "cell_type": "code",
   "execution_count": 3,
   "metadata": {},
   "outputs": [
    {
     "name": "stdout",
     "output_type": "stream",
     "text": [
      "0.1 <class 'float'>\n",
      "Hello World <class 'str'>\n",
      "False <class 'bool'>\n"
     ]
    }
   ],
   "source": [
    "num  = 0.1\n",
    "message = \"Hello World\"\n",
    "\n",
    "print(num, type(num))\n",
    "print(message, type(message))\n",
    "print(is_valid, type(is_valid))"
   ]
  },
  {
   "cell_type": "code",
   "execution_count": null,
   "metadata": {},
   "outputs": [],
   "source": []
  }
 ],
 "metadata": {
  "kernelspec": {
   "display_name": "Python 3",
   "language": "python",
   "name": "python3"
  },
  "language_info": {
   "codemirror_mode": {
    "name": "ipython",
    "version": 3
   },
   "file_extension": ".py",
   "mimetype": "text/x-python",
   "name": "python",
   "nbconvert_exporter": "python",
   "pygments_lexer": "ipython3",
   "version": "3.10.11"
  }
 },
 "nbformat": 4,
 "nbformat_minor": 2
}
